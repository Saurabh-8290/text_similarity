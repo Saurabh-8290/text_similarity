{
 "cells": [
  {
   "cell_type": "code",
   "execution_count": 2,
   "id": "a8fc0bf7",
   "metadata": {},
   "outputs": [
    {
     "name": "stdout",
     "output_type": "stream",
     "text": [
      "input text1: hello\n",
      "input text2: hello\n"
     ]
    },
    {
     "name": "stderr",
     "output_type": "stream",
     "text": [
      "C:\\Users\\sa251\\anaconda3\\lib\\site-packages\\urllib3\\connectionpool.py:1013: InsecureRequestWarning: Unverified HTTPS request is being made to host 'text-similarity-c378e9b00a22.herokuapp.com'. Adding certificate verification is strongly advised. See: https://urllib3.readthedocs.io/en/latest/advanced-usage.html#ssl-warnings\n",
      "  warnings.warn(\n"
     ]
    },
    {
     "name": "stdout",
     "output_type": "stream",
     "text": [
      "Response content: {\"similarity_score\":1}\n",
      "\n"
     ]
    }
   ],
   "source": [
    "import requests\n",
    "import json\n",
    "from requests.packages.urllib3.util.ssl_ import create_urllib3_context\n",
    "\n",
    "url = 'https://text-similarity-c378e9b00a22.herokuapp.com/'\n",
    "text1 = input(\"input text1: \")\n",
    "text2 = input(\"input text2: \")\n",
    "\n",
    "data = {'text1': text1, 'text2': text2}\n",
    "headers = {'Content-Type': 'application/json'}\n",
    "\n",
    "try:\n",
    "    # Make a POST request with JSON data\n",
    "    response = requests.post(url, headers=headers, json=data, verify=False)\n",
    "\n",
    "    # Check the status code\n",
    "    if response.status_code == 200:\n",
    "        print('Response content:', response.text)\n",
    "    else:\n",
    "        print('Request failed with status code:', response.status_code)\n",
    "except requests.exceptions.RequestException as e:\n",
    "    print('Request failed with error:', e)\n"
   ]
  }
 ],
 "metadata": {
  "kernelspec": {
   "display_name": "Python 3 (ipykernel)",
   "language": "python",
   "name": "python3"
  },
  "language_info": {
   "codemirror_mode": {
    "name": "ipython",
    "version": 3
   },
   "file_extension": ".py",
   "mimetype": "text/x-python",
   "name": "python",
   "nbconvert_exporter": "python",
   "pygments_lexer": "ipython3",
   "version": "3.8.5"
  }
 },
 "nbformat": 4,
 "nbformat_minor": 5
}
