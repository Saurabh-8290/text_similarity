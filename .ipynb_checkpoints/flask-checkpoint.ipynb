{
 "cells": [
  {
   "cell_type": "code",
   "execution_count": null,
   "id": "d20bc532",
   "metadata": {},
   "outputs": [],
   "source": [
    "from flask import Flask, request, jsonify\n",
    "from Text_Similarity import calculate_cosine_similarity\n",
    "\n",
    "\n",
    "\n",
    "\n",
    "app = Flask(__name__)\n",
    "\n",
    "@app.route('/calculate_similarity', methods=['POST'])\n",
    "def calculate_similarity():\n",
    "    try:\n",
    "        # Get the input texts from the request\n",
    "        data = request.get_json()\n",
    "        text1 = data['text1']\n",
    "        text2 = data['text2']\n",
    "\n",
    "        # Calculate similarity using the function\n",
    "        similarity_score = calculate_cosine_similarity(text1, text2)\n",
    "\n",
    "        # Return the result as JSON\n",
    "        result = {'similarity_score': similarity_score}\n",
    "        return jsonify(result)\n",
    "\n",
    "    except Exception as e:\n",
    "        return jsonify({'error': str(e)})\n",
    "\n",
    "if __name__ == '__main__':\n",
    "    app.run(debug=True)\n"
   ]
  },
  {
   "cell_type": "code",
   "execution_count": null,
   "id": "63ab5d55",
   "metadata": {},
   "outputs": [],
   "source": [
    "curl -X POST -d \"{\\\"text1\\\": \\\"Hello\\\",\\\"text2\\\": \\\"Hello\\\"}\" -H \"Content-Type: application/json\" http://localhost:5000"
   ]
  }
 ],
 "metadata": {
  "kernelspec": {
   "display_name": "Python 3 (ipykernel)",
   "language": "python",
   "name": "python3"
  },
  "language_info": {
   "codemirror_mode": {
    "name": "ipython",
    "version": 3
   },
   "file_extension": ".py",
   "mimetype": "text/x-python",
   "name": "python",
   "nbconvert_exporter": "python",
   "pygments_lexer": "ipython3",
   "version": "3.9.12"
  }
 },
 "nbformat": 4,
 "nbformat_minor": 5
}
