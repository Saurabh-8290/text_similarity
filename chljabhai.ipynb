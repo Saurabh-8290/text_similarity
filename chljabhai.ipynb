{
 "cells": [
  {
   "cell_type": "code",
   "execution_count": null,
   "id": "a8fc0bf7",
   "metadata": {},
   "outputs": [],
   "source": [
    "import requests\n",
    "import json\n",
    "from requests.packages.urllib3.util.ssl_ import create_urllib3_context\n",
    "\n",
    "url = 'https://127.0.0.1:5000'\n",
    "text1 = input(\"input text1: \")\n",
    "text2 = input(\"input text2: \")\n",
    "\n",
    "data = {'text1': text1, 'text2': text2}\n",
    "headers = {'Content-Type': 'application/json'}\n",
    "\n",
    "try:\n",
    "    # Make a POST request with JSON data\n",
    "    response = requests.post(url, headers=headers, json=data, verify=False)\n",
    "\n",
    "    # Check the status code\n",
    "    if response.status_code == 200:\n",
    "        print('Request successful!')\n",
    "        print('Response content:', response.text)\n",
    "    else:\n",
    "        print('Request failed with status code:', response.status_code)\n",
    "except requests.exceptions.RequestException as e:\n",
    "    print('Request failed with error:', e)\n"
   ]
  },
  {
   "cell_type": "code",
   "execution_count": 4,
   "id": "7842f66f",
   "metadata": {},
   "outputs": [
    {
     "name": "stdout",
     "output_type": "stream",
     "text": [
      "input text1: hii\n",
      "input text2: hii\n",
      "Curl command failed with error code: 35\n"
     ]
    }
   ],
   "source": [
    "import subprocess\n",
    "import json\n",
    "\n",
    "url = 'https://localhost:5000'\n",
    "text1 = input(\"input text1: \")\n",
    "text2 = input(\"input text2: \")\n",
    "\n",
    "data = {'text1': text1, 'text2': text2}\n",
    "json_data = json.dumps(data)\n",
    "\n",
    "curl_command = ['curl', '-X', 'POST',  '-d', json_data, '-H', 'Content-Type: application/json', url]\n",
    "\n",
    "try:\n",
    "    # Run the curl command and capture the output\n",
    "    result = subprocess.run(curl_command, capture_output=True, text=True, check=True)\n",
    "\n",
    "    # Print the output\n",
    "    print('Curl command successful!')\n",
    "    print('Response content:', result.stdout)\n",
    "except subprocess.CalledProcessError as e:\n",
    "    print('Curl command failed with error code:', e.returncode)\n",
    "\n"
   ]
  },
  {
   "cell_type": "code",
   "execution_count": null,
   "id": "a5430541",
   "metadata": {},
   "outputs": [],
   "source": [
    "curl -X POST -d \"{\\\"text1\\\": \\\"Hello\\\",\\\"text2\\\": \\\"Hello\\\"}\" -H \"Content-Type: application/json\" http://localhost:5000"
   ]
  }
 ],
 "metadata": {
  "kernelspec": {
   "display_name": "Python 3 (ipykernel)",
   "language": "python",
   "name": "python3"
  },
  "language_info": {
   "codemirror_mode": {
    "name": "ipython",
    "version": 3
   },
   "file_extension": ".py",
   "mimetype": "text/x-python",
   "name": "python",
   "nbconvert_exporter": "python",
   "pygments_lexer": "ipython3",
   "version": "3.9.12"
  }
 },
 "nbformat": 4,
 "nbformat_minor": 5
}
